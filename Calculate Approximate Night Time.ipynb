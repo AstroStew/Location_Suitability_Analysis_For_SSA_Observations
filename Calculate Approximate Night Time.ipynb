{
 "cells": [
  {
   "cell_type": "markdown",
   "id": "b302c86d",
   "metadata": {},
   "source": [
    "One Factor to consider was dealing with optical observations is the approximate amount of night time that there is a given month. "
   ]
  },
  {
   "cell_type": "code",
   "execution_count": 1,
   "id": "d54f034a",
   "metadata": {},
   "outputs": [],
   "source": [
    "import numpy as np\n",
    "import pytz\n",
    "import datetime\n",
    "from astropy import units as u\n",
    "from astropy.coordinates import EarthLocation\n",
    "from astroplan import Observer\n",
    "from astropy.time import Time\n",
    "import matplotlib.pyplot as plt\n",
    "from datetime import timedelta\n",
    "from timezonefinder import TimezoneFinder"
   ]
  },
  {
   "cell_type": "code",
   "execution_count": 2,
   "id": "970cd801",
   "metadata": {},
   "outputs": [],
   "source": [
    "location = EarthLocation.from_geodetic(lon=0*u.deg, lat=0*u.deg, height=0*u.m)\n",
    "observer = Observer(location=location)"
   ]
  },
  {
   "cell_type": "code",
   "execution_count": 3,
   "id": "b91e991a",
   "metadata": {},
   "outputs": [],
   "source": [
    "# Define the longitude and Latitude grids\n",
    "lons = np.arange(-0.1, 0.1, 0.1)\n",
    "lats = np.arange(-90, 90, 0.1)\n",
    "\n",
    "# Calculate the average night duration for each location for each day of the month\n",
    "avg_night_duration = np.zeros((len(lats), len(lons), 30))\n"
   ]
  },
  {
   "cell_type": "code",
   "execution_count": null,
   "id": "90113a38",
   "metadata": {},
   "outputs": [],
   "source": [
    "year=2022\n",
    "month=1\n",
    "day=1\n",
    "tf=TimezoneFinder()\n",
    "night_duration_sum=np.zeros([len(lats),len(lons)])\n",
    "original_dt = datetime.datetime(year, month, day, 0, 0, 0, tzinfo=pytz.utc)\n",
    "sunrise_times = np.zeros((len(lats), len(lons)))\n",
    "sunset_times = np.zeros((len(lats), len(lons)))\n",
    "for i, lat in enumerate(lats):\n",
    "    for j, lon in enumerate(lons):\n",
    "        # Find the new timezeon based on lat and long\n",
    "        # Find the timezone based on the latitude and longitude\n",
    "        timezone_str = tf.timezone_at(lat=lat, lng=lon)\n",
    "        target_timezone = pytz.timezone(timezone_str)\n",
    "        dt=original_dt.astimezone(target_timezone)\n",
    "        \n",
    "        \n",
    "        # Define the observer location\n",
    "        location = EarthLocation.from_geodetic(lon=lon*u.deg, lat=lat*u.deg, height=0*u.m)\n",
    "        observer = Observer(location=location)\n",
    "\n",
    "        # Calculate the sunrise and sunset times\n",
    "        #TODO: Add components of astronomical twilight\n",
    "\n",
    "\n",
    "        # Pole Conditions (where sun may not rise/set)\n",
    "        try:\n",
    "            sunrise_time = observer.sun_rise_time(Time(dt), which='next').datetime\n",
    "            sunset_time = observer.sun_set_time(Time(dt), which='next').datetime\n",
    "        \n",
    "            \n",
    "        except:\n",
    "            if observer.is_night(Time(dt)) ==True:\n",
    "                sunrise_time = dt\n",
    "                sunset_time = dt\n",
    "            elif observer.is_night(Time(dt)) == False: # Is day\n",
    "                sunrise_time = dt\n",
    "                sunset_time = dt+timedelta(days=1)\n",
    "        \n",
    "            \n",
    "\n",
    "\n",
    "        sunrise_times[i, j] = sunrise_time.timestamp()\n",
    "        sunset_times[i, j] = sunset_time.timestamp()\n",
    "night_duration=sunset_times-sunrise_times\n",
    "#night_duration=abs(night_duration)\n",
    "night_duration[night_duration<0]=0\n",
    "night_duration_sum += night_duration\n",
    "\n"
   ]
  },
  {
   "cell_type": "code",
   "execution_count": null,
   "id": "be0ce671",
   "metadata": {},
   "outputs": [],
   "source": [
    "plt.imshow(night_duration)"
   ]
  },
  {
   "cell_type": "code",
   "execution_count": null,
   "id": "67196b1a",
   "metadata": {},
   "outputs": [],
   "source": [
    "plt.plot(range(0,len(night_duration)),night_duration)"
   ]
  },
  {
   "cell_type": "code",
   "execution_count": null,
   "id": "e9457987",
   "metadata": {},
   "outputs": [],
   "source": [
    "normalized_night_duration=night_duration_sum/(60*60*24)"
   ]
  },
  {
   "cell_type": "code",
   "execution_count": null,
   "id": "9b49558f",
   "metadata": {},
   "outputs": [],
   "source": [
    "# applying this to all longitudes\n",
    "for i in range(0,np.shape(global_array)[1]):\n",
    "    global_array[:,i]=normalized_night_duration[:,1]"
   ]
  },
  {
   "cell_type": "code",
   "execution_count": null,
   "id": "c3e0bd10",
   "metadata": {},
   "outputs": [],
   "source": [
    "plt.imshow(global_array)\n",
    "\n",
    "plt.title('Normalized Estimated Night Time (January)')\n",
    "plt.colorbar()\n",
    "plt.ylabel('0-180 dgerees from North ')\n",
    "plt.xlabel('0-360 degrees')"
   ]
  },
  {
   "cell_type": "code",
   "execution_count": null,
   "id": "0ac30792",
   "metadata": {},
   "outputs": [],
   "source": []
  },
  {
   "cell_type": "markdown",
   "id": "16b21ecc",
   "metadata": {},
   "source": [
    "# Repeat this for all Months"
   ]
  },
  {
   "cell_type": "code",
   "execution_count": 12,
   "id": "45794f82",
   "metadata": {},
   "outputs": [],
   "source": [
    "def calculate_average_night_time(month, day, year, lats, lons):\n",
    "    original_dt = datetime.datetime(year, month, day, 0, 0, 0, tzinfo=pytz.utc)\n",
    "    night_duration_sum = np.zeros([len(lats), len(lons)])\n",
    "    sunrise_times = np.zeros((len(lats), len(lons)))\n",
    "    sunset_times = np.zeros((len(lats), len(lons)))\n",
    "    \n",
    "    for i, lat in enumerate(lats):\n",
    "        for j, lon in enumerate(lons):\n",
    "            # Find the new timezone based on lat and long\n",
    "            # Find the timezone based on the latitude and longitude\n",
    "            timezone_str = tf.timezone_at(lat=lat, lng=lon)\n",
    "            target_timezone = pytz.timezone(timezone_str)\n",
    "            dt = original_dt.astimezone(target_timezone)\n",
    "\n",
    "            # Define the observer location\n",
    "            location = EarthLocation.from_geodetic(lon=lon*u.deg, lat=lat*u.deg, height=0*u.m)\n",
    "            observer = Observer(location=location)\n",
    "\n",
    "            # Calculate the sunrise and sunset times\n",
    "            # TODO: Add components of astronomical twilight\n",
    "            \n",
    "            # Pole Conditions (where sun may not rise/set)\n",
    "            try:\n",
    "                sunrise_time = observer.sun_rise_time(Time(dt), which='next').datetime\n",
    "                sunset_time = observer.sun_set_time(Time(dt), which='next').datetime\n",
    "            except:\n",
    "                if observer.is_night(Time(dt)) == True:\n",
    "                    sunrise_time = dt\n",
    "                    sunset_time = dt\n",
    "                elif observer.is_night(Time(dt)) == False: # Is day\n",
    "                    sunrise_time = dt\n",
    "                    sunset_time = dt + timedelta(days=1)\n",
    "\n",
    "            sunrise_times[i, j] = sunrise_time.timestamp()\n",
    "            sunset_times[i, j] = sunset_time.timestamp()\n",
    "\n",
    "    night_duration = sunset_times - sunrise_times\n",
    "    night_duration[night_duration < 0] = 0\n",
    "    night_duration_sum += night_duration\n",
    "    \n",
    "    return night_duration_sum / (60*60*24)\n"
   ]
  },
  {
   "cell_type": "code",
   "execution_count": null,
   "id": "21cbb4c7",
   "metadata": {},
   "outputs": [],
   "source": [
    "Normalized_Time_Night_01 = calculate_average_night_time(1,1,2022,lats,lons)\n",
    "Normalized_Time_Night_02 = calculate_average_night_time(2,1,2022,lats,lons)\n",
    "Normalized_Time_Night_03 = calculate_average_night_time(3,1,2022,lats,lons)\n",
    "Normalized_Time_Night_04 = calculate_average_night_time(4,1,2022,lats,lons)\n",
    "Normalized_Time_Night_05 = calculate_average_night_time(5,1,2022,lats,lons)\n",
    "Normalized_Time_Night_06 = calculate_average_night_time(6,1,2022,lats,lons)\n",
    "Normalized_Time_Night_07 = calculate_average_night_time(7,1,2022,lats,lons)\n",
    "Normalized_Time_Night_08 = calculate_average_night_time(8,1,2022,lats,lons)\n",
    "Normalized_Time_Night_09 = calculate_average_night_time(9,1,2022,lats,lons)\n",
    "Normalized_Time_Night_10 = calculate_average_night_time(10,1,2022,lats,lons)\n",
    "Normalized_Time_Night_11 = calculate_average_night_time(11,1,2022,lats,lons)\n",
    "Normalized_Time_Night_12 = calculate_average_night_time(12,1,2022,lats,lons)"
   ]
  },
  {
   "cell_type": "markdown",
   "id": "4a5caea3",
   "metadata": {},
   "source": [
    "Apply this sliver of latitude to all longitudes"
   ]
  },
  {
   "cell_type": "code",
   "execution_count": null,
   "id": "b6837332",
   "metadata": {},
   "outputs": [],
   "source": [
    "global_array_01=np.zeros((len(np.arange(-90,90,0.1)),len(np.arange(-180,180,0.1))))\n",
    "global_array_02=np.zeros((len(np.arange(-90,90,0.1)),len(np.arange(-180,180,0.1))))\n",
    "global_array_03=np.zeros((len(np.arange(-90,90,0.1)),len(np.arange(-180,180,0.1))))\n",
    "global_array_04=np.zeros((len(np.arange(-90,90,0.1)),len(np.arange(-180,180,0.1))))\n",
    "global_array_05=np.zeros((len(np.arange(-90,90,0.1)),len(np.arange(-180,180,0.1))))\n",
    "global_array_06=np.zeros((len(np.arange(-90,90,0.1)),len(np.arange(-180,180,0.1))))\n",
    "global_array_07=np.zeros((len(np.arange(-90,90,0.1)),len(np.arange(-180,180,0.1))))\n",
    "global_array_08=np.zeros((len(np.arange(-90,90,0.1)),len(np.arange(-180,180,0.1))))\n",
    "global_array_09=np.zeros((len(np.arange(-90,90,0.1)),len(np.arange(-180,180,0.1))))\n",
    "global_array_10=np.zeros((len(np.arange(-90,90,0.1)),len(np.arange(-180,180,0.1))))\n",
    "global_array_11=np.zeros((len(np.arange(-90,90,0.1)),len(np.arange(-180,180,0.1))))\n",
    "global_array_12=np.zeros((len(np.arange(-90,90,0.1)),len(np.arange(-180,180,0.1))))\n",
    "\n",
    "for i in range(0,np.shape(global_array_12)[1]):\n",
    "    global_array_01[:,i]=Normalized_Time_Night_01[:,0]\n",
    "    global_array_02[:,i]=Normalized_Time_Night_02[:,0]\n",
    "    global_array_03[:,i]=Normalized_Time_Night_03[:,0]\n",
    "    global_array_04[:,i]=Normalized_Time_Night_04[:,0]\n",
    "    global_array_05[:,i]=Normalized_Time_Night_05[:,0]\n",
    "    global_array_06[:,i]=Normalized_Time_Night_07[:,0]\n",
    "    global_array_07[:,i]=Normalized_Time_Night_08[:,0]\n",
    "    global_array_09[:,i]=Normalized_Time_Night_09[:,0]\n",
    "    global_array_10[:,i]=Normalized_Time_Night_10[:,0]\n",
    "    global_array_11[:,i]=Normalized_Time_Night_11[:,0]\n",
    "    global_array_12[:,i]=Normalized_Time_Night_12[:,0]"
   ]
  },
  {
   "cell_type": "markdown",
   "id": "98f3fefe",
   "metadata": {},
   "source": [
    "## Save"
   ]
  },
  {
   "cell_type": "code",
   "execution_count": null,
   "id": "dcd200dd",
   "metadata": {},
   "outputs": [],
   "source": [
    "np.save(\"Normalized_Night_Time_01.npy\",global_array_01)\n",
    "np.save(\"Normalized_Night_Time_02.npy\",global_array_02)\n",
    "np.save(\"Normalized_Night_Time_03.npy\",global_array_03)\n",
    "np.save(\"Normalized_Night_Time_04.npy\",global_array_04)\n",
    "np.save(\"Normalized_Night_Time_05.npy\",global_array_05)\n",
    "np.save(\"Normalized_Night_Time_06.npy\",global_array_06)\n",
    "np.save(\"Normalized_Night_Time_07.npy\",global_array_07)\n",
    "np.save(\"Normalized_Night_Time_08.npy\",global_array_08)\n",
    "np.save(\"Normalized_Night_Time_09.npy\",global_array_09)\n",
    "np.save(\"Normalized_Night_Time_10.npy\",global_array_10)\n",
    "np.save(\"Normalized_Night_Time_11.npy\",global_array_11)\n",
    "np.save(\"Normalized_Night_Time_12.npy\",global_array_12)"
   ]
  },
  {
   "cell_type": "markdown",
   "id": "c6d82069",
   "metadata": {},
   "source": [
    "## Load"
   ]
  },
  {
   "cell_type": "markdown",
   "id": "5bfed408",
   "metadata": {},
   "source": [
    "If the arrays have already been created:"
   ]
  },
  {
   "cell_type": "code",
   "execution_count": 4,
   "id": "25a48ac0",
   "metadata": {},
   "outputs": [],
   "source": [
    "global_array_01=np.load(\"Dark Times/Produced Numpy Arrays/Normalized_Night_Time_01.npy\")\n",
    "global_array_02=np.load(\"Dark Times/Produced Numpy Arrays/Normalized_Night_Time_02.npy\")\n",
    "global_array_03=np.load(\"Dark Times/Produced Numpy Arrays/Normalized_Night_Time_03.npy\")\n",
    "global_array_04=np.load(\"Dark Times/Produced Numpy Arrays/Normalized_Night_Time_04.npy\")\n",
    "global_array_05=np.load(\"Dark Times/Produced Numpy Arrays/Normalized_Night_Time_05.npy\")\n",
    "global_array_06=np.load(\"Dark Times/Produced Numpy Arrays/Normalized_Night_Time_06.npy\")\n",
    "global_array_07=np.load(\"Dark Times/Produced Numpy Arrays/Normalized_Night_Time_07.npy\")\n",
    "global_array_08=np.load(\"Dark Times/Produced Numpy Arrays/Normalized_Night_Time_08.npy\")\n",
    "global_array_09=np.load(\"Dark Times/Produced Numpy Arrays/Normalized_Night_Time_09.npy\")\n",
    "global_array_10=np.load(\"Dark Times/Produced Numpy Arrays/Normalized_Night_Time_10.npy\")\n",
    "global_array_11=np.load(\"Dark Times/Produced Numpy Arrays/Normalized_Night_Time_11.npy\")\n",
    "global_array_12=np.load(\"Dark Times/Produced Numpy Arrays/Normalized_Night_Time_12.npy\")"
   ]
  },
  {
   "cell_type": "code",
   "execution_count": 10,
   "id": "c8f8f04b",
   "metadata": {},
   "outputs": [],
   "source": [
    "import rasterio\n",
    "def save_tiff(array,dst_file):\n",
    "    dst_crs = \"EPSG:4326\"  # coordinate reference system\n",
    "    dst_transform = rasterio.transform.from_bounds(-180, -90, 180, 90, 3600, 1800)\n",
    "    with rasterio.open(\n",
    "        dst_file,'w+',driver='GTiff',\n",
    "        height=array.shape[0],\n",
    "        width=array.shape[1],\n",
    "        count=1, \n",
    "        dtype=array.dtype, \n",
    "        crs=dst_crs, \n",
    "        transform=dst_transform) as dst:\n",
    "        dst.write(array,1)"
   ]
  },
  {
   "cell_type": "code",
   "execution_count": 11,
   "id": "9fbc5269",
   "metadata": {},
   "outputs": [],
   "source": [
    "save_tiff(global_array_01,'Dark Times/Produced Tiff/Jan_Dark_Time.tif')\n",
    "save_tiff(global_array_02,'Dark Times/Produced Tiff/Feb_Dark_Time.tif')\n",
    "save_tiff(global_array_03,'Dark Times/Produced Tiff/Mar_Dark_Time.tif')\n",
    "save_tiff(global_array_04,'Dark Times/Produced Tiff/Apr_Dark_Time.tif')\n",
    "save_tiff(global_array_05,'Dark Times/Produced Tiff/May_Dark_Time.tif')\n",
    "save_tiff(global_array_06,'Dark Times/Produced Tiff/Jun_Dark_Time.tif')\n",
    "save_tiff(global_array_07,'Dark Times/Produced Tiff/Jul_Dark_Time.tif')\n",
    "save_tiff(global_array_08,'Dark Times/Produced Tiff/Aug_Dark_Time.tif')\n",
    "save_tiff(global_array_09,'Dark Times/Produced Tiff/Sep_Dark_Time.tif')\n",
    "save_tiff(global_array_10,'Dark Times/Produced Tiff/Oct_Dark_Time.tif')\n",
    "save_tiff(global_array_11,'Dark Times/Produced Tiff/Nov_Dark_Time.tif')\n",
    "save_tiff(global_array_12,'Dark Times/Produced Tiff/Dec_Dark_Time.tif')"
   ]
  }
 ],
 "metadata": {
  "kernelspec": {
   "display_name": "Python 3 (ipykernel)",
   "language": "python",
   "name": "python3"
  },
  "language_info": {
   "codemirror_mode": {
    "name": "ipython",
    "version": 3
   },
   "file_extension": ".py",
   "mimetype": "text/x-python",
   "name": "python",
   "nbconvert_exporter": "python",
   "pygments_lexer": "ipython3",
   "version": "3.9.11"
  }
 },
 "nbformat": 4,
 "nbformat_minor": 5
}
