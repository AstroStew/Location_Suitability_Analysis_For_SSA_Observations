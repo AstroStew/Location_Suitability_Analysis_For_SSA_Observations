{
 "cells": [
  {
   "cell_type": "markdown",
   "id": "58d1ee78",
   "metadata": {},
   "source": [
    "Since we have monthly temporal data for cloud cover, water vapour, light pollution we will need to weight the produced monthly suitability accordining to demand. \n",
    "One indicator of demand is the number of starlink launches in a month. This can be found by scrapping the wikipedia for Starlink launches and counting when the satellites are launched"
   ]
  },
  {
   "cell_type": "code",
   "execution_count": 6,
   "id": "f7b99a15",
   "metadata": {},
   "outputs": [],
   "source": [
    "import pandas as pd\n",
    "import numpy as np"
   ]
  },
  {
   "cell_type": "code",
   "execution_count": 7,
   "id": "9b1f8da0",
   "metadata": {},
   "outputs": [],
   "source": [
    "\n",
    "tables=pd.read_html(\"https://en.wikipedia.org/wiki/List_of_Starlink_and_Starshield_launches\")\n",
    "table=pd.DataFrame(tables[1])\n",
    "column=table['Date and time,UTC']\n",
    "Jan_Launch_Num=pd.Series(column['Date and time,UTC']).str.contains('Jan').sum()\n",
    "Feb_Launch_Num=pd.Series(column['Date and time,UTC']).str.contains('Feb').sum()\n",
    "Mar_Launch_Num=pd.Series(column['Date and time,UTC']).str.contains('March').sum()\n",
    "Apr_Launch_Num=pd.Series(column['Date and time,UTC']).str.contains('April').sum()\n",
    "May_Launch_Num=pd.Series(column['Date and time,UTC']).str.contains('May').sum()\n",
    "Jun_Launch_Num=pd.Series(column['Date and time,UTC']).str.contains('June').sum()\n",
    "Jul_Launch_Num=pd.Series(column['Date and time,UTC']).str.contains('July').sum()\n",
    "Aug_Launch_Num=pd.Series(column['Date and time,UTC']).str.contains('August').sum()\n",
    "Sep_Launch_Num=pd.Series(column['Date and time,UTC']).str.contains('September').sum()\n",
    "Oct_Launch_Num=pd.Series(column['Date and time,UTC']).str.contains('Oct').sum()\n",
    "Nov_Launch_Num=pd.Series(column['Date and time,UTC']).str.contains('November').sum()"
   ]
  },
  {
   "cell_type": "code",
   "execution_count": 8,
   "id": "229495a3",
   "metadata": {},
   "outputs": [],
   "source": [
    "total_launches=np.sum([Jan_Launch_Num,\n",
    "        Feb_Launch_Num,\n",
    "        Mar_Launch_Num,\n",
    "        Apr_Launch_Num,\n",
    "        May_Launch_Num,\n",
    "        Jun_Launch_Num,\n",
    "        Jul_Launch_Num,\n",
    "        Aug_Launch_Num,\n",
    "        Sep_Launch_Num,\n",
    "        Oct_Launch_Num,\n",
    "        Nov_Launch_Num])"
   ]
  },
  {
   "cell_type": "code",
   "execution_count": 9,
   "id": "9d5313d8",
   "metadata": {},
   "outputs": [],
   "source": [
    "Jan_weight=Jan_Launch_Num/total_launches\n",
    "Feb_weight=Feb_Launch_Num/total_launches\n",
    "Mar_weight=Mar_Launch_Num/total_launches\n",
    "Apr_weight=Apr_Launch_Num/total_launches\n",
    "May_weight=May_Launch_Num/total_launches\n",
    "Jun_weight=Jun_Launch_Num/total_launches\n",
    "Jul_weight=Jul_Launch_Num/total_launches\n",
    "Aug_weight=Aug_Launch_Num/total_launches\n",
    "Sep_weight=Sep_Launch_Num/total_launches\n",
    "Oct_weight=Oct_Launch_Num/total_launches\n",
    "Nov_weight=Nov_Launch_Num/total_launches\n"
   ]
  },
  {
   "cell_type": "code",
   "execution_count": 11,
   "id": "82ac23e2",
   "metadata": {},
   "outputs": [
    {
     "name": "stdout",
     "output_type": "stream",
     "text": [
      "Jan weight is thus:   0.10588\n",
      "Feb weight is thus:   0.15294\n",
      "Mar weight is thus:   0.15294\n",
      "Apr weight is thus:   0.07059\n",
      "May weight is thus:   0.11765\n",
      "Jun weight is thus:   0.05882\n",
      "Jul weight is thus:   0.05882\n",
      "Aug weight is thus:   0.08235\n",
      "Sep weight is thus:   0.08235\n",
      "Oct weight is thus:   0.08235\n",
      "Nov weight is thus:   0.03529\n"
     ]
    }
   ],
   "source": [
    "print(f'Jan weight is thus: {Jan_weight:9.5f}')\n",
    "print(f'Feb weight is thus: {Feb_weight:9.5f}')\n",
    "print(f'Mar weight is thus: {Mar_weight:9.5f}')\n",
    "print(f'Apr weight is thus: {Apr_weight:9.5f}')\n",
    "print(f'May weight is thus: {May_weight:9.5f}')\n",
    "print(f'Jun weight is thus: {Jun_weight:9.5f}')\n",
    "print(f'Jul weight is thus: {Jul_weight:9.5f}')\n",
    "print(f'Aug weight is thus: {Aug_weight:9.5f}')\n",
    "print(f'Sep weight is thus: {Sep_weight:9.5f}')\n",
    "print(f'Oct weight is thus: {Oct_weight:9.5f}')\n",
    "print(f'Nov weight is thus: {Nov_weight:9.5f}')"
   ]
  },
  {
   "cell_type": "code",
   "execution_count": null,
   "id": "02d2d16d",
   "metadata": {},
   "outputs": [],
   "source": []
  }
 ],
 "metadata": {
  "kernelspec": {
   "display_name": "Python 3 (ipykernel)",
   "language": "python",
   "name": "python3"
  },
  "language_info": {
   "codemirror_mode": {
    "name": "ipython",
    "version": 3
   },
   "file_extension": ".py",
   "mimetype": "text/x-python",
   "name": "python",
   "nbconvert_exporter": "python",
   "pygments_lexer": "ipython3",
   "version": "3.9.11"
  }
 },
 "nbformat": 4,
 "nbformat_minor": 5
}
