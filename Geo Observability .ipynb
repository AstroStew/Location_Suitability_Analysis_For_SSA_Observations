{
 "cells": [
  {
   "cell_type": "markdown",
   "id": "902aa396",
   "metadata": {},
   "source": [
    "In constrast to looking at LEO satellites such as Starlink, GEO objects orbit around the Earth at stable latitudes and longitudes. "
   ]
  },
  {
   "cell_type": "code",
   "execution_count": 1,
   "id": "dbbd624d",
   "metadata": {},
   "outputs": [],
   "source": [
    "from skyfield.api import load,wgs84\n",
    "from skyfield.api import Loader, EarthSatellite\n",
    "import matplotlib.pyplot as plt\n",
    "import numpy as np\n",
    "from multiprocessing import Pool\n",
    "from skyfield.api import Topos\n",
    "import random"
   ]
  },
  {
   "cell_type": "markdown",
   "id": "9b789723",
   "metadata": {},
   "source": [
    "Firstly, let's take a look at the Latitudes of the Geostationary Satellties and detect the observability of them"
   ]
  },
  {
   "cell_type": "code",
   "execution_count": 2,
   "id": "bbf93c31",
   "metadata": {},
   "outputs": [],
   "source": [
    "sats=load.tle_file('Geo/geo.txt')\n",
    "ts=load.timescale()\n",
    "eph=load('de421.bsp')\n",
    "random.shuffle(sats)"
   ]
  },
  {
   "cell_type": "markdown",
   "id": "6badfcf3",
   "metadata": {},
   "source": [
    "Using a set timestamp:"
   ]
  },
  {
   "cell_type": "code",
   "execution_count": null,
   "id": "157f1246",
   "metadata": {},
   "outputs": [],
   "source": [
    "#Estimation with midnight at UTC\n",
    "t0 = ts.utc(2023, 1, 1, 0, 0, 0)\n",
    "\n",
    "lons = np.arange(-0.05,0.05, 0.1)\n",
    "lats = np.arange(-90, 90, 0.1)\n",
    "detection_array = np.zeros((len(lats), len(lons)))\n",
    "for i, lat in enumerate(lats):\n",
    "        for j, lon in enumerate(lons):\n",
    "            for sat in sats:\n",
    "                location = wgs84.latlon(lat, lon)\n",
    "                geocentric = sat.at(t0)\n",
    "                difference = sat - location\n",
    "                topocentric = difference.at(t0)\n",
    "                alt, az, distance = topocentric.altaz()\n",
    "                if alt.degrees > 30 and sat.at(t0).is_sunlit(eph):\n",
    "                    detection_array[i, j] += 1\n",
    "        "
   ]
  },
  {
   "cell_type": "code",
   "execution_count": null,
   "id": "bee27071",
   "metadata": {},
   "outputs": [],
   "source": [
    "plt.imshow(detection_array)"
   ]
  },
  {
   "cell_type": "markdown",
   "id": "babe231d",
   "metadata": {},
   "source": [
    "# Iterating Over Multiple Months"
   ]
  },
  {
   "cell_type": "markdown",
   "id": "c76b8c7e",
   "metadata": {},
   "source": [
    "## Calculate Latitude Detections"
   ]
  },
  {
   "cell_type": "code",
   "execution_count": 3,
   "id": "12b05443",
   "metadata": {},
   "outputs": [],
   "source": [
    "def geo_lat_detection(month):\n",
    "    \n",
    "    t0 = ts.utc(2023, month, 1, 0, 0, 0)\n",
    "\n",
    "    lons = np.arange(-0.05,0.05, 0.1)\n",
    "    lats = np.arange(-90, 90, 0.1)\n",
    "    detection_array = np.zeros((len(lats), len(lons)))\n",
    "\n",
    "\n",
    "    for i, lat in enumerate(lats):\n",
    "            for j, lon in enumerate(lons):\n",
    "                for sat in sats:\n",
    "                    location = wgs84.latlon(lat, lon)\n",
    "                    geocentric = sat.at(t0)\n",
    "                    difference = sat - location\n",
    "                    topocentric = difference.at(t0)\n",
    "                    alt, az, distance = topocentric.altaz()\n",
    "                    if alt.degrees > 30:\n",
    "                        detection_array[i, j] += 1\n",
    "    return detection_array"
   ]
  },
  {
   "cell_type": "code",
   "execution_count": null,
   "id": "7c924de7",
   "metadata": {},
   "outputs": [],
   "source": [
    "geo_detection_01=geo_lat_detection(1)\n",
    "geo_detection_02=geo_lat_detection(2)\n",
    "geo_detection_03=geo_lat_detection(3)\n",
    "geo_detection_04=geo_lat_detection(4)\n",
    "geo_detection_05=geo_lat_detection(5)\n",
    "geo_detection_06=geo_lat_detection(6)\n",
    "geo_detection_07=geo_lat_detection(7)\n",
    "geo_detection_08=geo_lat_detection(8)\n",
    "geo_detection_09=geo_lat_detection(9)\n",
    "geo_detection_10=geo_lat_detection(10)\n",
    "geo_detection_11=geo_lat_detection(11)\n",
    "geo_detection_12=geo_lat_detection(12)"
   ]
  },
  {
   "cell_type": "markdown",
   "id": "f6aa688a",
   "metadata": {},
   "source": [
    "## Normalize the Values"
   ]
  },
  {
   "cell_type": "code",
   "execution_count": null,
   "id": "e95c573d",
   "metadata": {},
   "outputs": [],
   "source": [
    "Normalized_Geo_Detections_01=(geo_detection_01/ np.max(geo_detection_01))\n",
    "Normalized_Geo_Detections_02=(geo_detection_02/ np.max(geo_detection_02))\n",
    "Normalized_Geo_Detections_03=(geo_detection_03/ np.max(geo_detection_03))\n",
    "Normalized_Geo_Detections_04=(geo_detection_04/ np.max(geo_detection_04))\n",
    "Normalized_Geo_Detections_05=(geo_detection_05/ np.max(geo_detection_05))\n",
    "Normalized_Geo_Detections_06=(geo_detection_06/ np.max(geo_detection_06))\n",
    "Normalized_Geo_Detections_07=(geo_detection_07/ np.max(geo_detection_07))\n",
    "Normalized_Geo_Detections_08=(geo_detection_08/ np.max(geo_detection_08))\n",
    "Normalized_Geo_Detections_09=(geo_detection_09/ np.max(geo_detection_09))\n",
    "Normalized_Geo_Detections_10=(geo_detection_10/ np.max(geo_detection_10))\n",
    "Normalized_Geo_Detections_11=(geo_detection_11/ np.max(geo_detection_11))\n",
    "Normalized_Geo_Detections_12=(geo_detection_12/ np.max(geo_detection_12))"
   ]
  },
  {
   "cell_type": "markdown",
   "id": "2715a8e4",
   "metadata": {},
   "source": [
    "## Apply to all Longtiudes"
   ]
  },
  {
   "cell_type": "code",
   "execution_count": null,
   "id": "bccb541e",
   "metadata": {},
   "outputs": [],
   "source": [
    "geo_global_array_01=np.zeros((len(np.arange(-90,90,0.1)),len(np.arange(-180,180,0.1))))\n",
    "geo_global_array_02=np.zeros((len(np.arange(-90,90,0.1)),len(np.arange(-180,180,0.1))))\n",
    "geo_global_array_03=np.zeros((len(np.arange(-90,90,0.1)),len(np.arange(-180,180,0.1))))\n",
    "geo_global_array_04=np.zeros((len(np.arange(-90,90,0.1)),len(np.arange(-180,180,0.1))))\n",
    "geo_global_array_05=np.zeros((len(np.arange(-90,90,0.1)),len(np.arange(-180,180,0.1))))\n",
    "geo_global_array_06=np.zeros((len(np.arange(-90,90,0.1)),len(np.arange(-180,180,0.1))))\n",
    "geo_global_array_07=np.zeros((len(np.arange(-90,90,0.1)),len(np.arange(-180,180,0.1))))\n",
    "geo_global_array_08=np.zeros((len(np.arange(-90,90,0.1)),len(np.arange(-180,180,0.1))))\n",
    "geo_global_array_09=np.zeros((len(np.arange(-90,90,0.1)),len(np.arange(-180,180,0.1))))\n",
    "geo_global_array_10=np.zeros((len(np.arange(-90,90,0.1)),len(np.arange(-180,180,0.1))))\n",
    "geo_global_array_11=np.zeros((len(np.arange(-90,90,0.1)),len(np.arange(-180,180,0.1))))\n",
    "geo_global_array_12=np.zeros((len(np.arange(-90,90,0.1)),len(np.arange(-180,180,0.1))))\n",
    "\n",
    "for i in range(0,np.shape(geo_global_array_12)[1]):\n",
    "    geo_global_array_01[:,i]=Normalized_Geo_Detections_01[:,0]\n",
    "    geo_global_array_02[:,i]=Normalized_Geo_Detections_02[:,0]\n",
    "    geo_global_array_03[:,i]=Normalized_Geo_Detections_03[:,0]\n",
    "    geo_global_array_04[:,i]=Normalized_Geo_Detections_04[:,0]\n",
    "    geo_global_array_05[:,i]=Normalized_Geo_Detections_05[:,0]\n",
    "    geo_global_array_06[:,i]=Normalized_Geo_Detections_07[:,0]\n",
    "    geo_global_array_07[:,i]=Normalized_Geo_Detections_08[:,0]\n",
    "    geo_global_array_09[:,i]=Normalized_Geo_Detections_09[:,0]\n",
    "    geo_global_array_10[:,i]=Normalized_Geo_Detections_10[:,0]\n",
    "    geo_global_array_11[:,i]=Normalized_Geo_Detections_11[:,0]\n",
    "    geo_global_array_12[:,i]=Normalized_Geo_Detections_12[:,0]"
   ]
  },
  {
   "cell_type": "code",
   "execution_count": null,
   "id": "50c14770",
   "metadata": {},
   "outputs": [],
   "source": [
    "plt.imshow(geo_global_array_01)"
   ]
  },
  {
   "cell_type": "code",
   "execution_count": null,
   "id": "cf9f1cdd",
   "metadata": {},
   "outputs": [],
   "source": [
    "np.save(\"Geo/Latitudes/Normalized_Geo_Trace_01.npy\",Normalized_Geo_Detections_01)\n",
    "np.save(\"Geo/Latitudes/Normalized_Geo_Trace_02.npy\",Normalized_Geo_Detections_02)\n",
    "np.save(\"Geo/Latitudes/Normalized_Geo_Trace_03.npy\",Normalized_Geo_Detections_03)\n",
    "np.save(\"Geo/Latitudes/Normalized_Geo_Trace_04.npy\",Normalized_Geo_Detections_04)\n",
    "np.save(\"Geo/Latitudes/Normalized_Geo_Trace_05.npy\",Normalized_Geo_Detections_05)\n",
    "np.save(\"Geo/Latitudes/Normalized_Geo_Trace_06.npy\",Normalized_Geo_Detections_06)\n",
    "np.save(\"Geo/Latitudes/Normalized_Geo_Trace_07.npy\",Normalized_Geo_Detections_07)\n",
    "np.save(\"Geo/Latitudes/Normalized_Geo_Trace_08.npy\",Normalized_Geo_Detections_08)\n",
    "np.save(\"Geo/Latitudes/Normalized_Geo_Trace_09.npy\",Normalized_Geo_Detections_09)\n",
    "np.save(\"Geo/Latitudes/Normalized_Geo_Trace_10.npy\",Normalized_Geo_Detections_10)\n",
    "np.save(\"Geo/Latitudes/Normalized_Geo_Trace_11.npy\",Normalized_Geo_Detections_11)\n",
    "np.save(\"Geo/Latitudes/Normalized_Geo_Trace_12.npy\",Normalized_Geo_Detections_12)"
   ]
  },
  {
   "cell_type": "code",
   "execution_count": 4,
   "id": "15ae5cb8",
   "metadata": {},
   "outputs": [],
   "source": [
    "Normalized_Geo_Detections_01=np.load(\"Geo/Latitudes/Normalized_Geo_Trace_01.npy\")\n",
    "Normalized_Geo_Detections_02=np.load(\"Geo/Latitudes/Normalized_Geo_Trace_02.npy\")\n",
    "Normalized_Geo_Detections_03=np.load(\"Geo/Latitudes/Normalized_Geo_Trace_03.npy\")\n",
    "Normalized_Geo_Detections_04=np.load(\"Geo/Latitudes/Normalized_Geo_Trace_04.npy\")\n",
    "Normalized_Geo_Detections_05=np.load(\"Geo/Latitudes/Normalized_Geo_Trace_05.npy\")\n",
    "Normalized_Geo_Detections_06=np.load(\"Geo/Latitudes/Normalized_Geo_Trace_06.npy\")\n",
    "Normalized_Geo_Detections_07=np.load(\"Geo/Latitudes/Normalized_Geo_Trace_07.npy\")\n",
    "Normalized_Geo_Detections_08=np.load(\"Geo/Latitudes/Normalized_Geo_Trace_08.npy\")\n",
    "Normalized_Geo_Detections_09=np.load(\"Geo/Latitudes/Normalized_Geo_Trace_09.npy\")\n",
    "Normalized_Geo_Detections_10=np.load(\"Geo/Latitudes/Normalized_Geo_Trace_10.npy\")\n",
    "Normalized_Geo_Detections_11=np.load(\"Geo/Latitudes/Normalized_Geo_Trace_11.npy\")\n",
    "Normalized_Geo_Detections_12=np.load(\"Geo/Latitudes/Normalized_Geo_Trace_12.npy\")"
   ]
  },
  {
   "cell_type": "markdown",
   "id": "055adf17",
   "metadata": {},
   "source": [
    "## Calculate the Detections with Longitudes"
   ]
  },
  {
   "cell_type": "code",
   "execution_count": 5,
   "id": "66e8f846",
   "metadata": {},
   "outputs": [],
   "source": [
    "def geo_lon_detection(month):\n",
    "    \n",
    "    t0 = ts.utc(2023, month, 1, 0, 0, 0)\n",
    "\n",
    "    lons = np.arange(-0.05,0.05, 0.1)\n",
    "    lats = np.arange(-90, 90, 0.1)\n",
    "    detection_array = np.zeros((len(lats), len(lons)))\n",
    "\n",
    "\n",
    "    for i, lat in enumerate(lats):\n",
    "            for j, lon in enumerate(lons):\n",
    "                for sat in sats:\n",
    "                    location = wgs84.latlon(lat, lon)\n",
    "                    geocentric = sat.at(t0)\n",
    "                    difference = sat - location\n",
    "                    topocentric = difference.at(t0)\n",
    "                    alt, az, distance = topocentric.altaz()\n",
    "                    if alt.degrees > 30 :\n",
    "                        detection_array[i, j] += 1\n",
    "    return detection_array\n"
   ]
  },
  {
   "cell_type": "code",
   "execution_count": null,
   "id": "5a05bef9",
   "metadata": {},
   "outputs": [],
   "source": [
    "geo_lon_detection_01=geo_lon_detection(1)\n",
    "geo_lon_detection_02=geo_lon_detection(2)\n",
    "geo_lon_detection_03=geo_lon_detection(3)\n",
    "geo_lon_detection_04=geo_lon_detection(4)\n",
    "geo_lon_detection_05=geo_lon_detection(5)\n",
    "geo_lon_detection_06=geo_lon_detection(6)\n",
    "geo_lon_detection_07=geo_lon_detection(7)\n",
    "geo_lon_detection_08=geo_lon_detection(8)\n",
    "geo_lon_detection_09=geo_lon_detection(9)\n",
    "geo_lon_detection_10=geo_lon_detection(10)\n",
    "geo_lon_detection_11=geo_lon_detection(11)\n",
    "geo_lon_detection_12=geo_lon_detection(12)"
   ]
  },
  {
   "cell_type": "code",
   "execution_count": null,
   "id": "6200f926",
   "metadata": {},
   "outputs": [],
   "source": [
    "Normalized_Geo_lon_Detections_01=(geo_lon_detection_01/ np.max(geo_lon_detection_01))\n",
    "Normalized_Geo_lon_Detections_02=(geo_lon_detection_02/ np.max(geo_lon_detection_02))\n",
    "Normalized_Geo_lon_Detections_03=(geo_lon_detection_03/ np.max(geo_lon_detection_03))\n",
    "Normalized_Geo_lon_Detections_04=(geo_lon_detection_04/ np.max(geo_lon_detection_04))\n",
    "Normalized_Geo_lon_Detections_05=(geo_lon_detection_05/ np.max(geo_lon_detection_05))\n",
    "Normalized_Geo_lon_Detections_06=(geo_lon_detection_06/ np.max(geo_lon_detection_06))\n",
    "Normalized_Geo_lon_Detections_07=(geo_lon_detection_07/ np.max(geo_lon_detection_07))\n",
    "Normalized_Geo_lon_Detections_08=(geo_lon_detection_08/ np.max(geo_lon_detection_08))\n",
    "Normalized_Geo_lon_Detections_09=(geo_lon_detection_09/ np.max(geo_lon_detection_09))\n",
    "Normalized_Geo_lon_Detections_10=(geo_lon_detection_10/ np.max(geo_lon_detection_10))\n",
    "Normalized_Geo_lon_Detections_11=(geo_lon_detection_11/ np.max(geo_lon_detection_11))\n",
    "Normalized_Geo_lon_Detections_12=(geo_lon_detection_12/ np.max(geo_lon_detection_12))"
   ]
  },
  {
   "cell_type": "code",
   "execution_count": null,
   "id": "71aae857",
   "metadata": {},
   "outputs": [],
   "source": [
    "np.save(\"Geo/Longitudes/Normalized_Geo_lon_Trace_01.npy\",Normalized_Geo_lon_Detections_01)\n",
    "np.save(\"Geo/Longitudes/Normalized_Geo_lon_Trace_02.npy\",Normalized_Geo_lon_Detections_02)\n",
    "np.save(\"Geo/Longitudes/Normalized_Geo_lon_Trace_03.npy\",Normalized_Geo_lon_Detections_03)\n",
    "np.save(\"Geo/Longitudes/Normalized_Geo_lon_Trace_04.npy\",Normalized_Geo_lon_Detections_04)\n",
    "np.save(\"Geo/Longitudes/Normalized_Geo_lon_Trace_05.npy\",Normalized_Geo_lon_Detections_05)\n",
    "np.save(\"Geo/Longitudes/Normalized_Geo_lon_Trace_06.npy\",Normalized_Geo_lon_Detections_06)\n",
    "np.save(\"Geo/Longitudes/Normalized_Geo_lon_Trace_07.npy\",Normalized_Geo_lon_Detections_07)\n",
    "np.save(\"Geo/Longitudes/Normalized_Geo_lon_Trace_08.npy\",Normalized_Geo_lon_Detections_08)\n",
    "np.save(\"Geo/Longitudes/Normalized_Geo_lon_Trace_09.npy\",Normalized_Geo_lon_Detections_09)\n",
    "np.save(\"Geo/Longitudes/Normalized_Geo_lon_Trace_10.npy\",Normalized_Geo_lon_Detections_10)\n",
    "np.save(\"Geo/Longitudes/Normalized_Geo_lon_Trace_11.npy\",Normalized_Geo_lon_Detections_11)\n",
    "np.save(\"Geo/Longitudes/Normalized_Geo_lon_Trace_12.npy\",Normalized_Geo_lon_Detections_12)"
   ]
  },
  {
   "cell_type": "code",
   "execution_count": 6,
   "id": "b369754e",
   "metadata": {},
   "outputs": [],
   "source": [
    "Normalized_Geo_lon_Detections_01=np.load(\"Geo/Longitudes/Normalized_Geo_lon_Trace_01.npy\")\n",
    "Normalized_Geo_lon_Detections_02=np.load(\"Geo/Longitudes/Normalized_Geo_lon_Trace_02.npy\")\n",
    "Normalized_Geo_lon_Detections_03=np.load(\"Geo/Longitudes/Normalized_Geo_lon_Trace_03.npy\")\n",
    "Normalized_Geo_lon_Detections_04=np.load(\"Geo/Longitudes/Normalized_Geo_lon_Trace_04.npy\")\n",
    "Normalized_Geo_lon_Detections_05=np.load(\"Geo/Longitudes/Normalized_Geo_lon_Trace_05.npy\")\n",
    "Normalized_Geo_lon_Detections_06=np.load(\"Geo/Longitudes/Normalized_Geo_lon_Trace_06.npy\")\n",
    "Normalized_Geo_lon_Detections_07=np.load(\"Geo/Longitudes/Normalized_Geo_lon_Trace_07.npy\")\n",
    "Normalized_Geo_lon_Detections_08=np.load(\"Geo/Longitudes/Normalized_Geo_lon_Trace_08.npy\")\n",
    "Normalized_Geo_lon_Detections_09=np.load(\"Geo/Longitudes/Normalized_Geo_lon_Trace_09.npy\")\n",
    "Normalized_Geo_lon_Detections_10=np.load(\"Geo/Longitudes/Normalized_Geo_lon_Trace_10.npy\")\n",
    "Normalized_Geo_lon_Detections_11=np.load(\"Geo/Longitudes/Normalized_Geo_lon_Trace_11.npy\")\n",
    "Normalized_Geo_lon_Detections_12=np.load(\"Geo/Longitudes/Normalized_Geo_lon_Trace_12.npy\")"
   ]
  },
  {
   "cell_type": "markdown",
   "id": "dd5b21d4",
   "metadata": {},
   "source": [
    "# Combine"
   ]
  },
  {
   "cell_type": "code",
   "execution_count": 9,
   "id": "f79b66c9",
   "metadata": {},
   "outputs": [],
   "source": [
    "geo_global_array_01=Normalized_Geo_Detections_01*Normalized_Geo_lon_Detections_01\n",
    "geo_global_array_02=Normalized_Geo_Detections_02*Normalized_Geo_lon_Detections_02\n",
    "geo_global_array_03=Normalized_Geo_Detections_03*Normalized_Geo_lon_Detections_03\n",
    "geo_global_array_04=Normalized_Geo_Detections_04*Normalized_Geo_lon_Detections_04\n",
    "geo_global_array_05=Normalized_Geo_Detections_05*Normalized_Geo_lon_Detections_05\n",
    "geo_global_array_06=Normalized_Geo_Detections_06*Normalized_Geo_lon_Detections_06\n",
    "geo_global_array_07=Normalized_Geo_Detections_07*Normalized_Geo_lon_Detections_07\n",
    "geo_global_array_08=Normalized_Geo_Detections_08*Normalized_Geo_lon_Detections_08\n",
    "geo_global_array_09=Normalized_Geo_Detections_09*Normalized_Geo_lon_Detections_09\n",
    "geo_global_array_10=Normalized_Geo_Detections_10*Normalized_Geo_lon_Detections_10\n",
    "geo_global_array_11=Normalized_Geo_Detections_11*Normalized_Geo_lon_Detections_11\n",
    "geo_global_array_12=Normalized_Geo_Detections_12*Normalized_Geo_lon_Detections_12"
   ]
  },
  {
   "cell_type": "code",
   "execution_count": 10,
   "id": "6ca8ef91",
   "metadata": {},
   "outputs": [
    {
     "data": {
      "text/plain": [
       "<matplotlib.image.AxesImage at 0x292bea35d60>"
      ]
     },
     "execution_count": 10,
     "metadata": {},
     "output_type": "execute_result"
    },
    {
     "data": {
      "image/png": "[encoded data removed]",
      "text/plain": [
       "<Figure size 640x480 with 1 Axes>"
      ]
     },
     "metadata": {},
     "output_type": "display_data"
    }
   ],
   "source": [
    "plt.imshow(geo_global_array_01)"
   ]
  },
  {
   "cell_type": "markdown",
   "id": "a94d3c0e",
   "metadata": {},
   "source": [
    "# Save Tiff Files"
   ]
  },
  {
   "cell_type": "code",
   "execution_count": 11,
   "id": "9bc61597",
   "metadata": {},
   "outputs": [],
   "source": [
    "import numpy as np\n",
    "import rasterio\n",
    "def save_tiff(array,dst_file):\n",
    "    dst_crs = \"EPSG:4326\"  # coordinate reference system\n",
    "    dst_transform = rasterio.transform.from_bounds(-180, -90, 180, 90, 3600, 1800)\n",
    "    with rasterio.open(\n",
    "        dst_file,'w+',driver='GTiff',\n",
    "        height=array.shape[0],\n",
    "        width=array.shape[1],\n",
    "        count=1, \n",
    "        dtype=array.dtype, \n",
    "        crs=dst_crs, \n",
    "        transform=dst_transform) as dst:\n",
    "        dst.write(array,1)"
   ]
  },
  {
   "cell_type": "code",
   "execution_count": 12,
   "id": "e3140afa",
   "metadata": {},
   "outputs": [],
   "source": [
    "save_tiff((geo_global_array_01),'Geo/Composites/Jan_Geo_Trace.tif')\n",
    "save_tiff((geo_global_array_02),'Geo/Composites/Feb_Geo_Trace.tif')\n",
    "save_tiff((geo_global_array_03),'Geo/Composites/Mar_Geo_Trace.tif')\n",
    "save_tiff((geo_global_array_04),'Geo/Composites/Apr_Geo_Trace.tif')\n",
    "save_tiff((geo_global_array_05),'Geo/Composites/May_Geo_Trace.tif')\n",
    "save_tiff((geo_global_array_06),'Geo/Composites/Jun_Geo_Trace.tif')\n",
    "save_tiff((geo_global_array_07),'Geo/Composites/Jul_Geo_Trace.tif')\n",
    "save_tiff((geo_global_array_08),'Geo/Composites/Aug_Geo_Trace.tif')\n",
    "save_tiff((geo_global_array_09),'Geo/Composites/Sep_Geo_Trace.tif')\n",
    "save_tiff((geo_global_array_10),'Geo/Composites/Oct_Geo_Trace.tif')\n",
    "save_tiff((geo_global_array_11),'Geo/Composites/Nov_Geo_Trace.tif')\n",
    "save_tiff((geo_global_array_12),'Geo/Composites/Dec_Geo_Trace.tif')"
   ]
  }
 ],
 "metadata": {
  "kernelspec": {
   "display_name": "Python 3 (ipykernel)",
   "language": "python",
   "name": "python3"
  },
  "language_info": {
   "codemirror_mode": {
    "name": "ipython",
    "version": 3
   },
   "file_extension": ".py",
   "mimetype": "text/x-python",
   "name": "python",
   "nbconvert_exporter": "python",
   "pygments_lexer": "ipython3",
   "version": "3.9.11"
  }
 },
 "nbformat": 4,
 "nbformat_minor": 5
}
